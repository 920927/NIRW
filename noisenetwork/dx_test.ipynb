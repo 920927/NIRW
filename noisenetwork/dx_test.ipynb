{
 "cells": [
  {
   "cell_type": "code",
   "execution_count": 6,
   "metadata": {},
   "outputs": [],
   "source": [
    "import os\n",
    "import numpy as np\n",
    "import torch\n",
    "import torch.nn as nn\n",
    "from torchvision import transforms\n",
    "from PIL import Image\n",
    "import random, string\n",
    "from noise_layers import *\n",
    "\n",
    "\n",
    "class Noise(nn.Module):\n",
    "\n",
    "\tdef __init__(self, layers):\n",
    "\t\tsuper(Noise, self).__init__()\n",
    "\t\tfor i in range(len(layers)):\n",
    "\t\t\tlayers[i] = eval(layers[i])\n",
    "\t\tself.noise = nn.Sequential(*layers)\n",
    "\n",
    "\tdef forward(self, image_and_cover):\n",
    "\t\tnoised_image = self.noise(image_and_cover)\n",
    "\t\treturn noised_image"
   ]
  },
  {
   "cell_type": "code",
   "execution_count": 13,
   "metadata": {},
   "outputs": [],
   "source": [
    "class Noise(nn.Module):\n",
    "\n",
    "    def __init__(self, layers):\n",
    "        super(Noise, self).__init__()\n",
    "        for i in range(len(layers)):\n",
    "            layers[i] = eval(layers[i])\n",
    "        self.noise = nn.Sequential(*layers)\n",
    "\n",
    "    def forward(self, image):\n",
    "        noised_image = self.noise(image)\n",
    "        return noised_image"
   ]
  },
  {
   "cell_type": "code",
   "execution_count": 18,
   "metadata": {},
   "outputs": [],
   "source": [
    "import torch\n",
    "import torchvision.transforms as transforms\n",
    "from PIL import Image\n",
    "from noise_layers import Combined, JpegMask, Jpeg, Identity  # 假设这些是你定义的噪声层\n",
    "\n",
    "# 加载图像\n",
    "image_path = \"400_val_orig.png\"\n",
    "image_path2 = \"400_val_w.png\"\n",
    "image = Image.open(image_path)\n",
    "image2 = Image.open(image_path2)\n",
    "# 转换图像为 PyTorch 张量，并添加批次维度\n",
    "transform = transforms.ToTensor()\n",
    "image_tensor = transform(image).unsqueeze(0)\n",
    "image_tensor2 = transform(image2).unsqueeze(0)\n",
    "\n",
    "# 定义噪声层\n",
    "noise_layers = [\n",
    "    'Combined([JpegMask(50),Jpeg(50),Identity()])'\n",
    "  ]\n",
    "# 定义噪声模型\n",
    "noise_model = Noise(noise_layers)\n",
    "\n",
    "# 将图像通过噪声模型输出\n",
    "noised_image = noise_model([image_tensor2,image_tensor])\n",
    "\n",
    "# 将输出的张量转换为 PIL 图像并保存\n",
    "output_image = transforms.ToPILImage()(noised_image.squeeze(0))\n",
    "output_image.save(\"noised_image.jpg\")\n"
   ]
  }
 ],
 "metadata": {
  "kernelspec": {
   "display_name": "signature",
   "language": "python",
   "name": "python3"
  },
  "language_info": {
   "codemirror_mode": {
    "name": "ipython",
    "version": 3
   },
   "file_extension": ".py",
   "mimetype": "text/x-python",
   "name": "python",
   "nbconvert_exporter": "python",
   "pygments_lexer": "ipython3",
   "version": "3.8.18"
  }
 },
 "nbformat": 4,
 "nbformat_minor": 2
}
